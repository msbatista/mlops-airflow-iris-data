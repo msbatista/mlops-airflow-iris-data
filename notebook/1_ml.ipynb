{
 "cells": [
  {
   "cell_type": "code",
   "execution_count": 1,
   "id": "f37ac93b-f6b6-46d0-b314-d0b2036fb727",
   "metadata": {},
   "outputs": [],
   "source": [
    "#!pip install mlflow"
   ]
  },
  {
   "cell_type": "code",
   "execution_count": 63,
   "id": "da0b0fea-ff7c-4c92-92c0-cd728db90024",
   "metadata": {},
   "outputs": [],
   "source": [
    "import os\n",
    "import pandas as pd\n",
    "import numpy as np\n",
    "import mlflow\n",
    "import mlflow.sklearn\n",
    "\n",
    "from sklearn.metrics import mean_squared_error, mean_absolute_error, r2_score\n",
    "from sklearn.model_selection import train_test_split\n",
    "from urllib.parse import urlparse\n",
    "from sklearn.ensemble import RandomForestClassifier\n",
    "\n",
    "from typing import Union, List"
   ]
  },
  {
   "cell_type": "code",
   "execution_count": 64,
   "id": "cd433a0b-4a79-4435-bb6c-63fede108345",
   "metadata": {},
   "outputs": [],
   "source": [
    "DATA_DIR = '../pipeline/data'\n",
    "DATASET = 'processed/cleaned.csv'\n",
    "ML_FLOW_URI = 'http://localhost:5003'\n",
    "EXPERIMENT_NAME = 'iris-db-classifier-v1'\n",
    "ALPHA = 0.5\n",
    "L1_RATIO = 0.5\n",
    "\n",
    "FEATURES = ['sepal_length', 'sepal_width', 'petal_length', 'petal_width']\n",
    "ENCODER = 'classEncoder'"
   ]
  },
  {
   "cell_type": "code",
   "execution_count": 65,
   "id": "41c564d7-4eb1-415c-8b2a-7ddeef0f244c",
   "metadata": {},
   "outputs": [],
   "source": [
    "def _eval_metrics(actual, pred) -> Union[float, float, float]:\n",
    "    rmse = np.sqrt(mean_squared_error(actual, pred))\n",
    "    mae = mean_absolute_error(actual, pred)\n",
    "    r2 = r2_score(actual, pred)\n",
    "\n",
    "    return rmse, mae, r2\n",
    "\n",
    "\n",
    "def _load_data(file: str) -> pd.DataFrame:\n",
    "    return pd.read_csv(file, header=0, index_col=False)\n",
    "\n",
    "def _split_dataset(df: pd.DataFrame, features: List[str], encoder: str) -> Union[pd.DataFrame, pd.DataFrame, pd.DataFrame, pd.DataFrame]:\n",
    "    X = df[features]\n",
    "    y = df[[encoder]]\n",
    "\n",
    "    X_train, X_test, y_train, y_test = train_test_split(X, y, test_size=0.3)\n",
    "\n",
    "    return X_train, X_test, y_train, y_test\n",
    "\n",
    "def _run_experiment(experiment_id: str, X_train: pd.DataFrame, X_test: pd.DataFrame, y_train: pd.DataFrame, y_test: pd.DataFrame) -> None:\n",
    "    with mlflow.start_run(experiment_id=experiment_id):\n",
    "        mlflow.sklearn.autolog()\n",
    "        mlflow.log_param(\"alpha\", ALPHA)\n",
    "        mlflow.log_param(\"l1_ratio\", L1_RATIO)\n",
    "\n",
    "        rfc = RandomForestClassifier(n_estimators=100)\n",
    "\n",
    "        rfc.fit(X_train, y_train.values.ravel())\n",
    "        y_pred = rfc.predict(X_test)\n",
    "\n",
    "        (rmse, mae, r2) = _eval_metrics(y_test, y_pred)\n",
    "\n",
    "        print(\"  RMSE: %s\" % rmse)\n",
    "        print(\"  MAE: %s\" % mae)\n",
    "        print(\"  R2: %s\" % r2)\n",
    "\n",
    "        mlflow.log_metric(\"RMSE\", rmse)\n",
    "        mlflow.log_metric(\"R2\", r2)\n",
    "        mlflow.log_metric(\"MAE\", mae)\n",
    "\n",
    "        tracking_url_type_store = urlparse(mlflow.get_tracking_uri()).scheme\n",
    "\n",
    "        if tracking_url_type_store != \"file\":\n",
    "            mlflow.sklearn.log_model(\n",
    "                rfc, \"model\", registered_model_name=\"iris_rfc_model\")\n",
    "        else:\n",
    "            mlflow.sklearn.log_model(rfc, \"model\")\n",
    "\n",
    "\n",
    "def main() -> None:\n",
    "    mlflow.set_registry_uri(ML_FLOW_URI)\n",
    "\n",
    "    experiment_id = None\n",
    "\n",
    "    try:\n",
    "        experiment_id = mlflow.create_experiment(EXPERIMENT_NAME)\n",
    "    except:\n",
    "        experiment_id = mlflow.get_experiment_by_name(\n",
    "            EXPERIMENT_NAME).experiment_id\n",
    "        print(experiment_id)\n",
    "\n",
    "    iris_df = _load_data(os.path.join(DATA_DIR, DATASET))\n",
    "\n",
    "    X_train, X_test, y_train, y_test = _split_dataset(\n",
    "        df=iris_df, features=FEATURES, encoder=ENCODER)\n",
    "\n",
    "    _run_experiment(experiment_id, X_train, X_test, y_train, y_test)"
   ]
  },
  {
   "cell_type": "code",
   "execution_count": 66,
   "id": "41e0c975-8f74-4887-9eb1-f071f611f7e1",
   "metadata": {},
   "outputs": [
    {
     "name": "stdout",
     "output_type": "stream",
     "text": [
      "1\n"
     ]
    },
    {
     "name": "stderr",
     "output_type": "stream",
     "text": [
      "2022/05/02 21:11:37 WARNING mlflow.utils.autologging_utils: MLflow autologging encountered a warning: \"/home/marcelo/code-workspace/puc/airflow-v1/.venv/lib/python3.8/site-packages/sklearn/utils/deprecation.py:87: FutureWarning: Function plot_confusion_matrix is deprecated; Function `plot_confusion_matrix` is deprecated in 1.0 and will be removed in 1.2. Use one of the class methods: ConfusionMatrixDisplay.from_predictions or ConfusionMatrixDisplay.from_estimator.\"\n"
     ]
    },
    {
     "name": "stdout",
     "output_type": "stream",
     "text": [
      "  RMSE: 0.26111648393354675\n",
      "  MAE: 0.06818181818181818\n",
      "  R2: 0.8958168902920284\n"
     ]
    },
    {
     "name": "stderr",
     "output_type": "stream",
     "text": [
      "Registered model 'iris_rfc_model' already exists. Creating a new version of this model...\n",
      "2022/05/02 21:11:40 INFO mlflow.tracking._model_registry.client: Waiting up to 300 seconds for model version to finish creation.                     Model name: iris_rfc_model, version 2\n",
      "Created version '2' of model 'iris_rfc_model'.\n"
     ]
    }
   ],
   "source": [
    "main()"
   ]
  },
  {
   "cell_type": "code",
   "execution_count": null,
   "id": "85c98a7b-7de0-404e-9d4c-730092323b27",
   "metadata": {},
   "outputs": [],
   "source": []
  }
 ],
 "metadata": {
  "kernelspec": {
   "display_name": "Python 3 (ipykernel)",
   "language": "python",
   "name": "python3"
  },
  "language_info": {
   "codemirror_mode": {
    "name": "ipython",
    "version": 3
   },
   "file_extension": ".py",
   "mimetype": "text/x-python",
   "name": "python",
   "nbconvert_exporter": "python",
   "pygments_lexer": "ipython3",
   "version": "3.8.10"
  }
 },
 "nbformat": 4,
 "nbformat_minor": 5
}
